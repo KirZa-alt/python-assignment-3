{
  "nbformat": 4,
  "nbformat_minor": 0,
  "metadata": {
    "colab": {
      "provenance": [],
      "authorship_tag": "ABX9TyN5SsYCTY99dxNZarUOzPP3",
      "include_colab_link": true
    },
    "kernelspec": {
      "name": "python3",
      "display_name": "Python 3"
    },
    "language_info": {
      "name": "python"
    }
  },
  "cells": [
    {
      "cell_type": "markdown",
      "metadata": {
        "id": "view-in-github",
        "colab_type": "text"
      },
      "source": [
        "<a href=\"https://colab.research.google.com/github/KirZa-alt/python-assignment-3/blob/main/Assignment_3_Smart_Home_Automation_System_Using_Python.ipynb\" target=\"_parent\"><img src=\"https://colab.research.google.com/assets/colab-badge.svg\" alt=\"Open In Colab\"/></a>"
      ]
    },
    {
      "cell_type": "markdown",
      "source": [
        "# **ASSIGNMENT: 3**\n",
        "# **Python Assignment: Smart Home Automation System**\n"
      ],
      "metadata": {
        "id": "0P1F2VqCoRya"
      }
    },
    {
      "cell_type": "markdown",
      "source": [
        "## **1. Device Management (Lists & Tuples)**\n",
        "### Task 1.1: Create and Manage a List of Smart Devices**"
      ],
      "metadata": {
        "id": "CSbBGOgRo3A0"
      }
    },
    {
      "cell_type": "code",
      "source": [
        "smart_devices=[\"smart plug\",\"smart speaker\",\"smart vaccum\",\"automatic smart feeder\",\"smart wifi\"]\n",
        "while True:\n",
        "    change_options=input(\"Do u want to add ,remove or sort smart devices or nothing? \").title()\n",
        "    if change_options==\"Add\":\n",
        "        quantity=int(input(\"How many devices which u want to add? \"))\n",
        "        for i in range(quantity):\n",
        "                add=input(\"Enter devices which u want to add? \")\n",
        "                smart_devices.append(add)\n",
        "                print(\"updated smart Devices list are\",smart_devices)\n",
        "\n",
        "\n",
        "    if change_options == \"Remove\":\n",
        "        quantity = int(input(\"How many devices do you want to remove? \"))\n",
        "        for i in range(quantity):\n",
        "            remove = input(\"Enter the device you want to remove: \")\n",
        "        if remove in smart_devices:\n",
        "            smart_devices.remove(remove)\n",
        "            print(\"updated smart Devices list are\",smart_devices)\n",
        "        else:\n",
        "                print(remove,\"is not in the list. No device removed.\")\n",
        "    if change_options==\"Sort\":\n",
        "        sorted_list=sorted(smart_devices, key=str.lower)\n",
        "        print(sorted_list)\n",
        "    if change_options == \"Nothing\":\n",
        "        print(\"Okay, goodbye! Thank you for coming.\")\n",
        "        break\n",
        "    else:\n",
        "        print(\"you entered a wrong option plz try again.\")"
      ],
      "metadata": {
        "colab": {
          "base_uri": "https://localhost:8080/"
        },
        "id": "KAM87T9JpjtQ",
        "outputId": "9785bed8-b2f3-4a1e-9360-dd9e4e0375e4"
      },
      "execution_count": null,
      "outputs": [
        {
          "output_type": "stream",
          "name": "stdout",
          "text": [
            "Do u want to add ,remove or sort smart devices or nothing? Add\n",
            "How many devices which u want to add? 1\n",
            "Enter devices which u want to add? Smart fan\n",
            "updated smart Devices list are ['smart plug', 'smart speaker', 'smart vaccum', 'automatic smart feeder', 'smart wifi', 'Smart fan']\n",
            "you entered a wrong option plz try again.\n",
            "Do u want to add ,remove or sort smart devices or nothing? Sort \n",
            "you entered a wrong option plz try again.\n",
            "Do u want to add ,remove or sort smart devices or nothing? Nothing\n",
            "Okay, goodbye! Thank you for coming.\n"
          ]
        }
      ]
    },
    {
      "cell_type": "markdown",
      "source": [
        "### Task 1.2: Store Device Settings Using Tuples**"
      ],
      "metadata": {
        "id": "mbU_r59pfd6A"
      }
    },
    {
      "cell_type": "code",
      "source": [
        "\n",
        "devices = (\n",
        "    (\"Smart Plug\", \"ON\", 10),\n",
        "    (\"Smart Speaker\", \"OFF\", 5),\n",
        "    (\"Smart Vacuum\", \"ON\", 50),\n",
        "    (\"Automatic Smart Feeder\", \"OFF\", 3),\n",
        "    (\"Smart WiFi\", \"ON\", 15)\n",
        ")\n",
        "\n",
        "ask=input(\"what do u want to view or quit? \").title()\n",
        "if ask==\"View\":\n",
        "    for device in devices:\n",
        "      name, status, power = device\n",
        "      print(\"name:\",name,\"status:\",status,\"walts:\",power)\n",
        "elif ask==\"Quit\":\n",
        "    print(\"Thankyuou for coming bye!\")\n",
        "else:\n",
        "    print(\"You entered a invalid option plz try again.\")"
      ],
      "metadata": {
        "colab": {
          "base_uri": "https://localhost:8080/"
        },
        "id": "p2COT3WMf07q",
        "outputId": "d54cb4af-b0cb-412b-c148-f830a9e076c1"
      },
      "execution_count": null,
      "outputs": [
        {
          "output_type": "stream",
          "name": "stdout",
          "text": [
            "what do u want to view or quit? view\n",
            "name: Smart Plug status: ON walts: 10\n",
            "name: Smart Speaker status: OFF walts: 5\n",
            "name: Smart Vacuum status: ON walts: 50\n",
            "name: Automatic Smart Feeder status: OFF walts: 3\n",
            "name: Smart WiFi status: ON walts: 15\n"
          ]
        }
      ]
    },
    {
      "cell_type": "markdown",
      "source": [
        "## **2.Energy Consumption Tracker (Dictionaries & Sets)**\n",
        "### Task 2.1: Store Device Energy Usage in a Dictionary**"
      ],
      "metadata": {
        "id": "LBiJqpdp3Prz"
      }
    },
    {
      "cell_type": "code",
      "source": [
        "energy_usage={\"smart light\":\"20Kwh\",\"smart bell\":\"10Kwh\",\"smart wifi\":\"50Kwh\"}\n",
        "while True:\n",
        "    user=input(\"what do u want to add,update,remove or display total usage or nothing? \").title()\n",
        "    if user==\"Add\"or user==\"update\":\n",
        "        quan=int(input(\"How many devices usage data u want to add? \"))\n",
        "        for i in range(quan):\n",
        "            key=input(\"enter a key\")\n",
        "            value=input( \"entr a value\")\n",
        "            unit_value=value+\"Kwh\"\n",
        "            energy_usage[key]=unit_value\n",
        "            print(\"updated energy usage data is\",energy_usage) # Indentation corrected here\n",
        "\n",
        "    elif user==\"Remove\": # Indentation corrected here, changed to elif\n",
        "        remove=input(\"enter a smart device which u want to dlt? \")\n",
        "        if remove in energy_usage:\n",
        "            del energy_usage[remove]\n",
        "            print(\"updated energy usage data is\",energy_usage)\n",
        "    elif user==\"Display Total Usage\"or user==\"Display Total\"or user==\"Total Usage\": # Indentation corrected here, changed to elif\n",
        "        total_usage = 0\n",
        "        for value in energy_usage.values():\n",
        "        # Remove \" kWh\" from the string and convert to float\n",
        "            total_usage += float(value.replace(\"Kwh\", \"\"))\n",
        "            print(total_usage)\n",
        "    elif user==\"Nothing\": # Indentation corrected here, changed to elif\n",
        "        print(\"Thank you for coming bye!\")\n",
        "        break\n",
        "    else:\n",
        "        print(\"you enterd a invalid option please try again!\")"
      ],
      "metadata": {
        "colab": {
          "base_uri": "https://localhost:8080/"
        },
        "id": "S-Pi3HNqhx6m",
        "outputId": "69a700f9-92b0-4e5c-a322-48cc97e9fbad"
      },
      "execution_count": null,
      "outputs": [
        {
          "output_type": "stream",
          "name": "stdout",
          "text": [
            "what do u want to add,update,remove or display total usage or nothing? add\n",
            "How many devices usage data u want to add? 1\n",
            "enter a keyfan\n",
            "entr a value20\n",
            "updated energy usage data is {'smart light': '20Kwh', 'smart bell': '10Kwh', 'smart wifi': '50Kwh', 'fan': '20Kwh'}\n",
            "what do u want to add,update,remove or display total usage or nothing? remove\n",
            "enter a smart device which u want to dlt? fan\n",
            "updated energy usage data is {'smart light': '20Kwh', 'smart bell': '10Kwh', 'smart wifi': '50Kwh'}\n",
            "what do u want to add,update,remove or display total usage or nothing? total usage\n",
            "20.0\n",
            "30.0\n",
            "80.0\n",
            "what do u want to add,update,remove or display total usage or nothing? nothing\n",
            "Thank you for coming bye!\n"
          ]
        }
      ]
    },
    {
      "cell_type": "markdown",
      "source": [
        "### Task 2.2: Identify Unique Power-Saving Modes Using Sets**"
      ],
      "metadata": {
        "id": "GqWE9s5cr2DN"
      }
    },
    {
      "cell_type": "code",
      "source": [
        "modes={\"Night mode\",\"Day mode\",\"Sleepy mode\"}\n",
        "while True:\n",
        "    mode=input(\"which mode u want to add,check or view modes or nothing ? \").capitalize()\n",
        "    if mode==\"Add\":\n",
        "        add=input(\"enter modes which u want to add? \").capitalize()\n",
        "        modes.add(add)\n",
        "        print(\"updated modes are: \",modes)\n",
        "    if mode==\"Check\":\n",
        "        check=input(\"enter a mode which u want to check its existance? \").capitalize()\n",
        "        if check in modes:\n",
        "            print(\"Yes\")\n",
        "        else:\n",
        "          print(\"No\")\n",
        "    if mode==\"View\"  :\n",
        "         print(modes)\n",
        "\n",
        "    if mode==\"Nothing\":\n",
        "        print(\"Ok bye thanku for coming!\")\n",
        "        break\n"
      ],
      "metadata": {
        "colab": {
          "base_uri": "https://localhost:8080/"
        },
        "id": "OrNTj7dfHkj7",
        "outputId": "497838f5-aa40-4d9b-edf8-641b6caec940"
      },
      "execution_count": null,
      "outputs": [
        {
          "output_type": "stream",
          "name": "stdout",
          "text": [
            "which mode u want to add,check or view modes or nothing ? add\n",
            "enter modes which u want to add? away mode\n",
            "updated modes are:  {'Away mode', 'Day mode', 'Sleepy mode', 'Night mode'}\n",
            "which mode u want to add,check or view modes or nothing ? check\n",
            "enter a mode which u want to check its existance? sleepy mode\n",
            "Yes\n",
            "which mode u want to add,check or view modes or nothing ? view\n",
            "{'Away mode', 'Day mode', 'Sleepy mode', 'Night mode'}\n",
            "which mode u want to add,check or view modes or nothing ? nothing\n",
            "Ok bye thanku for coming!\n"
          ]
        }
      ]
    },
    {
      "cell_type": "markdown",
      "source": [
        "## **3. Functions for Smart Home Automation Task**\n",
        "### 3.1: Create a Function to Calculate Monthly Energy Cost**"
      ],
      "metadata": {
        "id": "GenYdnnCEw3K"
      }
    },
    {
      "cell_type": "code",
      "source": [
        "total_energy=int(input(\"enter total energy usage? \"))\n",
        "total_energy_usage=str(total_energy)+\"KWh\"\n",
        "elec_rate=int(input(\"enter electricity rate \"))\n",
        "electricity_rate=str(elec_rate)+\"KWh\"\n",
        "def calculate_energy_cost(energy_usage,rate_per_Kwh):\n",
        "    return total_energy*elec_rate\n",
        "calculate_energy_cost(total_energy_usage,elec_rate)"
      ],
      "metadata": {
        "id": "Ycua-KDAHltu",
        "colab": {
          "base_uri": "https://localhost:8080/"
        },
        "outputId": "33e92dde-957d-4ff2-bffc-fd795c54cdbd"
      },
      "execution_count": 10,
      "outputs": [
        {
          "name": "stdout",
          "output_type": "stream",
          "text": [
            "enter total energy usage? 30\n",
            "enter electricity rate 50\n"
          ]
        },
        {
          "output_type": "execute_result",
          "data": {
            "text/plain": [
              "1500"
            ]
          },
          "metadata": {},
          "execution_count": 10
        }
      ]
    },
    {
      "cell_type": "markdown",
      "source": [
        "###Task 3.2: Create a Function to Find Common Devices in Two Homes**"
      ],
      "metadata": {
        "id": "Pw50j7dwFDtO"
      }
    },
    {
      "cell_type": "code",
      "source": [
        "def common_devices():\n",
        "    home1 = [\"smart fan\", \"smart bell\", \"smart clock\", \"smart bulb\", \"smart plug\"]\n",
        "    home2 = [\"smart lights\", \"smart fan\", \"smart feeder\", \"smart car\", \"smart clock\"]\n",
        "    set_1 = set(home1)\n",
        "    set_2 = set(home2)\n",
        "    return set_1.intersection(set_2)\n",
        "print(common_devices())\n"
      ],
      "metadata": {
        "colab": {
          "base_uri": "https://localhost:8080/"
        },
        "id": "5gFudny10BUf",
        "outputId": "be3e1167-dd97-4765-c706-edf02c7577d8"
      },
      "execution_count": 15,
      "outputs": [
        {
          "output_type": "stream",
          "name": "stdout",
          "text": [
            "{'smart fan', 'smart clock'}\n"
          ]
        }
      ]
    },
    {
      "cell_type": "markdown",
      "source": [
        "## **4. Automation Features (Advanced Functions)**\n",
        "### Task 4.1: Create an Automation Rule Using Functions**"
      ],
      "metadata": {
        "id": "A4ywvsy3FzsV"
      }
    },
    {
      "cell_type": "code",
      "source": [
        "def set_automation_rule(divice,time,action):\n",
        "    return divice,time,action\n",
        "print(set_automation_rule(\"plug\",\"3:00pm\",\"OFF\"))\n",
        "print(set_automation_rule(\"bell\",\"4:00pm\",\"ON\"))"
      ],
      "metadata": {
        "colab": {
          "base_uri": "https://localhost:8080/"
        },
        "id": "HErksvH84U1U",
        "outputId": "0b981665-cad8-4f2c-a88f-34ee00575564"
      },
      "execution_count": 25,
      "outputs": [
        {
          "output_type": "stream",
          "name": "stdout",
          "text": [
            "('plug', '3:00pm', 'OFF')\n",
            "('bell', '4:00pm', 'ON')\n"
          ]
        }
      ]
    },
    {
      "cell_type": "markdown",
      "source": [
        "### Task 4.2: Function to Optimize Power Consumption**"
      ],
      "metadata": {
        "id": "-1JPAygeGH6m"
      }
    },
    {
      "cell_type": "code",
      "source": [
        "# devices=[(\"fan\",1200),(\"lights\",50),(\"plug\",400)]\n",
        "# active_devices = [device for device, power in devices if power <= 1000]\n",
        "# print(\"Updated list of active devices:\", active_devices)\n",
        "\n",
        "def optimize_power(devices):\n",
        "    devices=[(\"fan\",1200),(\"lights\",50),(\"plug\",400)]\n",
        "    return [name for name,power in devices if power<=1000]\n",
        "optimize_power(devices)"
      ],
      "metadata": {
        "colab": {
          "base_uri": "https://localhost:8080/"
        },
        "id": "5dbGX1wq-8-d",
        "outputId": "e66b6a6e-1f8d-4b88-ae72-a66640594831"
      },
      "execution_count": 33,
      "outputs": [
        {
          "output_type": "execute_result",
          "data": {
            "text/plain": [
              "['lights', 'plug']"
            ]
          },
          "metadata": {},
          "execution_count": 33
        }
      ]
    },
    {
      "cell_type": "code",
      "source": [],
      "metadata": {
        "id": "lE9ufqqI6vhz"
      },
      "execution_count": null,
      "outputs": []
    }
  ]
}